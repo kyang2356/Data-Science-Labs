{
 "cells": [
  {
   "cell_type": "markdown",
   "metadata": {},
   "source": [
    "<font color=\"#483D8B\">\n",
    "<h1  align=\"left\">     AWS - Distributed Deep Learning and Neural Networks</h1>\n",
    "<div align=\"left\">\n",
    "<font size=3><b>\n",
    "<br>Lab 10\n",
    "<br>Kevin Yang\n",
    "<br>April 14, 2019\n",
    "<br></font></b></div>\n",
    "\n",
    "\n",
    "---------------"
   ]
  },
  {
   "cell_type": "markdown",
   "metadata": {},
   "source": [
    "## Overview"
   ]
  },
  {
   "cell_type": "markdown",
   "metadata": {},
   "source": [
    "This lab will include executing model in a distributed, scaled out environment. It will also perform image captioning using a built hybrid LSTM pre-trained-VGG model. It will cover how distributed deep learning and neural networks operate through a cloud-based environment with Amazon web services. \n",
    "\n",
    "References:\n",
    "1. https://towardsdatascience.com/image-captioning-with-keras-teaching-computers-to-describe-pictures-c88a46a311b8\n",
    "2. https://docs.google.com/document/d/1DGekkWYgcuqhBhZARHH5QGRugaWSsHcfbnJCrK-ue9I/edit#\n",
    "3. https://machinelearningmastery.com/develop-a-deep-learning-caption-generation-model-in-python/ (article and direct link to Flickr8k dataset)\n",
    "4. https://nlp.stanford.edu/projects/glove/ (Link to download the GloVe dataset) "
   ]
  },
  {
   "cell_type": "code",
   "execution_count": 4,
   "metadata": {},
   "outputs": [
    {
     "name": "stderr",
     "output_type": "stream",
     "text": [
      "Using TensorFlow backend.\n"
     ]
    }
   ],
   "source": [
    "import string\n",
    "from pickle import load\n",
    "from keras.applications import InceptionV3\n",
    "from keras.models import Model\n",
    "from keras.preprocessing import image \n",
    "from os import listdir\n",
    "import numpy as np\n",
    "from keras.applications.resnet50 import preprocess_input, decode_predictions"
   ]
  },
  {
   "cell_type": "markdown",
   "metadata": {},
   "source": [
    "## Data"
   ]
  },
  {
   "cell_type": "code",
   "execution_count": 31,
   "metadata": {},
   "outputs": [],
   "source": [
    "# Below is the path for the file \"Flickr8k.token.txt\" on your disk\n",
    "filename = \"C:/Users/kyang/Desktop/L10/ftext/Flickr8k.token.txt\"\n",
    "file = open(filename, 'r')\n",
    "doc = file.read()\n",
    "\n",
    "filename2 = 'C:/Users/kyang/Desktop/L10/glove/glove.6B.50d.txt'\n",
    "file2 = open(filename2, 'r', encoding=\"utf8\")\n",
    "doc2 = file2.read()\n"
   ]
  },
  {
   "cell_type": "markdown",
   "metadata": {},
   "source": [
    "'Flickr8' and the 'glove6b' dataset will be utilized for this lab. Both datasets can be found and downloaded from links the reference section. 'filename' contains the Flickr8k dataset. 'filename2' contains the glove dataset. "
   ]
  },
  {
   "cell_type": "markdown",
   "metadata": {},
   "source": [
    "## Exploratory Data Analysis"
   ]
  },
  {
   "cell_type": "code",
   "execution_count": 19,
   "metadata": {},
   "outputs": [],
   "source": [
    "#def load_descriptions(doc):\n",
    "descriptions = dict()\n",
    "for line in doc.split('\\n'):\n",
    "    # split line by white space\n",
    "    tokens = line.split()\n",
    "    \n",
    "    if len(line) < 2:\n",
    "        continue\n",
    "    \n",
    "    # take the first token as image id, the rest as description\n",
    "    image_id, image_desc = tokens[0], tokens[1:]\n",
    "    \n",
    "    # extract filename from image id\n",
    "    image_id = image_id.split('.')[0]\n",
    "    \n",
    "    # convert description tokens back to string\n",
    "    image_desc = ' '.join(image_desc)\n",
    "    if image_id not in descriptions:\n",
    "        descriptions[image_id] = list()\n",
    "    descriptions[image_id].append(image_desc)"
   ]
  },
  {
   "cell_type": "markdown",
   "metadata": {},
   "source": [
    "Above displays line splitting by the endline from the flickr text file. Image id and descriptions are separated into their own separate rokens. Image id is separated by '.' and the descriptions is converted back into a string."
   ]
  },
  {
   "cell_type": "code",
   "execution_count": 20,
   "metadata": {},
   "outputs": [],
   "source": [
    "# prepare translation table for removing punctuation\n",
    "\n",
    "table = str.maketrans('', '', string.punctuation)\n",
    "for key, desc_list in descriptions.items():\n",
    "    for i in range(len(desc_list)):\n",
    "        desc = desc_list[i]\n",
    "        # tokenize\n",
    "        desc = desc.split()\n",
    "        # convert to lower case\n",
    "        desc = [word.lower() for word in desc]\n",
    "        # remove punctuation from each token\n",
    "        desc = [w.translate(table) for w in desc]\n",
    "        # remove hanging 's' and 'a'\n",
    "        desc = [word for word in desc if len(word)>1]\n",
    "        # remove tokens with numbers in them\n",
    "        desc = [word for word in desc if word.isalpha()]\n",
    "        # store as string\n",
    "        desc_list[i] =  ' '.join(desc)"
   ]
  },
  {
   "cell_type": "markdown",
   "metadata": {},
   "source": [
    "Above prepares the translation table for removing punctuations. "
   ]
  },
  {
   "cell_type": "markdown",
   "metadata": {},
   "source": []
  },
  {
   "cell_type": "code",
   "execution_count": 21,
   "metadata": {},
   "outputs": [
    {
     "name": "stdout",
     "output_type": "stream",
     "text": [
      "Original Vocabulary Size: 8763\n"
     ]
    }
   ],
   "source": [
    "vocabulary = set()\n",
    "for key in descriptions.keys():\n",
    "    [vocabulary.update(d.split()) for d in descriptions[key]]\n",
    "print('Original Vocabulary Size: %d' % len(vocabulary))"
   ]
  },
  {
   "cell_type": "markdown",
   "metadata": {},
   "source": [
    "We can see that the set of vocabulary is 8763. There are 8763 words in the description."
   ]
  },
  {
   "cell_type": "code",
   "execution_count": 22,
   "metadata": {},
   "outputs": [],
   "source": [
    "# load doc into memory\n",
    "def load_doc(filename):\n",
    "    # open the file as read only\n",
    "    file = open(filename, 'r')\n",
    "    # read all text\n",
    "    text = file.read()\n",
    "    # close the file\n",
    "    file.close()\n",
    "    return text"
   ]
  },
  {
   "cell_type": "code",
   "execution_count": 23,
   "metadata": {},
   "outputs": [],
   "source": [
    "def save_descriptions(descriptions, filename):\n",
    "    lines = list()\n",
    "    for key, desc_list in descriptions.items():\n",
    "        for desc in desc_list:\n",
    "            lines.append(key + ' ' + desc)\n",
    "    data = '\\n'.join(lines)\n",
    "    file = open(filename, 'w')\n",
    "    file.write(data)\n",
    "    file.close()\n",
    " \n",
    "# save descriptions\n",
    "save_descriptions(descriptions, 'descriptions.txt')"
   ]
  },
  {
   "cell_type": "markdown",
   "metadata": {},
   "source": [
    "'load_doc' is a function that load the file into memory. 'save_descriptions' is a function that writes the descriptions from the file into a new text file: descriptions.txt."
   ]
  },
  {
   "cell_type": "code",
   "execution_count": 41,
   "metadata": {},
   "outputs": [],
   "source": [
    "\n",
    "def load_set(filename):\n",
    "    doc = load_doc(filename)\n",
    "    dataset = list()\n",
    "    # process line by line\n",
    "    for line in doc.split('\\n'):\n",
    "        # skip empty lines\n",
    "        if len(line) < 1:\n",
    "            continue\n",
    "        # get the image identifier\n",
    "        identifier = line.split('.')[0]\n",
    "        dataset.append(identifier)\n",
    "    return set(dataset)"
   ]
  },
  {
   "cell_type": "code",
   "execution_count": 25,
   "metadata": {},
   "outputs": [],
   "source": [
    "# load clean descriptions into memory\n",
    "def load_clean_descriptions(filename, dataset):\n",
    "    # load document\n",
    "    doc = load_doc(filename)\n",
    "    descriptions = dict()\n",
    "    for line in doc.split('\\n'):\n",
    "        # split line by white space\n",
    "        tokens = line.split()\n",
    "        # split id from description\n",
    "        image_id, image_desc = tokens[0], tokens[1:]\n",
    "        # skip images not in the set\n",
    "        if image_id in dataset:\n",
    "            # create list\n",
    "            if image_id not in descriptions:\n",
    "                descriptions[image_id] = list()\n",
    "            # wrap description in tokens\n",
    "            desc = 'startseq ' + ' '.join(image_desc) + ' endseq'\n",
    "            # store\n",
    "            descriptions[image_id].append(desc)\n",
    "    return descriptions\n",
    "\n",
    "train = load_set(filename)\n",
    "train_descriptions = load_clean_descriptions('descriptions.txt', train)"
   ]
  },
  {
   "cell_type": "markdown",
   "metadata": {},
   "source": [
    "'load_set' loads a pre-defined list of photo identifiers. 'load_clean_descriptions' load descriptions of each image into a dictionary labeled 'descriptions'. 'train' contains the loaded set of the flickr textfile. 'train_descriptions' contains the image descriptions from the flickr file. "
   ]
  },
  {
   "cell_type": "code",
   "execution_count": 26,
   "metadata": {},
   "outputs": [
    {
     "name": "stdout",
     "output_type": "stream",
     "text": [
      "preprocessed words 1949 \n"
     ]
    }
   ],
   "source": [
    "# Create a list of all the training captions\n",
    "\n",
    "all_train_captions = []\n",
    "\n",
    "for key, val in train_descriptions.items():\n",
    "    for cap in val:\n",
    "        all_train_captions.append(cap)\n",
    "\n",
    "# Consider only words which occur at least 10 times in the corpus\n",
    "word_count_threshold = 10\n",
    "word_counts = {}\n",
    "nsents = 0\n",
    "\n",
    "for sent in all_train_captions:\n",
    "    nsents += 1\n",
    "    for w in sent.split(' '):\n",
    "        word_counts[w] = word_counts.get(w, 0) + 1\n",
    "        \n",
    "vocab = [w for w in word_counts if word_counts[w] >= word_count_threshold]\n",
    "print('preprocessed words %d ' % len(vocab))"
   ]
  },
  {
   "cell_type": "code",
   "execution_count": null,
   "metadata": {},
   "outputs": [],
   "source": []
  },
  {
   "cell_type": "code",
   "execution_count": 27,
   "metadata": {},
   "outputs": [],
   "source": [
    "#Loading TrainingSet"
   ]
  },
  {
   "cell_type": "code",
   "execution_count": 34,
   "metadata": {},
   "outputs": [
    {
     "name": "stdout",
     "output_type": "stream",
     "text": [
      "Dataset: 400001\n"
     ]
    }
   ],
   "source": [
    "\n",
    "#newfile = file(filename2)\n",
    "train = list()\n",
    "for line in doc2.split('\\n'):\n",
    "    identifier = line.split('.')[0]\n",
    "    train.append(identifier)\n",
    "print('Dataset: %d' % len(train))"
   ]
  },
  {
   "cell_type": "code",
   "execution_count": null,
   "metadata": {},
   "outputs": [],
   "source": []
  },
  {
   "cell_type": "code",
   "execution_count": 35,
   "metadata": {},
   "outputs": [],
   "source": [
    "doc = load_doc('descriptions.txt')\n",
    "\n",
    "train_descriptions = dict()\n",
    "\n",
    "for line in doc.split('\\n'):\n",
    "    # split line by white space\n",
    "    tokens = line.split()\n",
    "\n",
    "    # split id from description\n",
    "    image_id, image_desc = tokens[0], tokens[1:]\n",
    "\n",
    "    # skip images not in the set\n",
    "    if image_id in train_descriptions:\n",
    "        if image_id not in descriptions:\n",
    "            train_descriptions[image_id] = list()\n",
    "\n",
    "        # wrap description in tokens\n",
    "        desc = 'startseq ' + ' '.join(image_desc) + ' endseq'\n",
    "\n",
    "        # store\n",
    "        train_descriptions[image_id].append(desc)\n",
    "        print('Descriptions: train=%d' % len(train_descriptions))"
   ]
  },
  {
   "cell_type": "code",
   "execution_count": null,
   "metadata": {},
   "outputs": [],
   "source": []
  },
  {
   "cell_type": "code",
   "execution_count": 36,
   "metadata": {},
   "outputs": [],
   "source": [
    "#Data Preprocessing-Images"
   ]
  },
  {
   "cell_type": "code",
   "execution_count": 37,
   "metadata": {},
   "outputs": [
    {
     "name": "stdout",
     "output_type": "stream",
     "text": [
      "WARNING:tensorflow:From C:\\Users\\kyang\\Anaconda3\\lib\\site-packages\\tensorflow\\python\\framework\\op_def_library.py:263: colocate_with (from tensorflow.python.framework.ops) is deprecated and will be removed in a future version.\n",
      "Instructions for updating:\n",
      "Colocations handled automatically by placer.\n"
     ]
    }
   ],
   "source": [
    "# Get the InceptionV3 model trained on imagenet data\n",
    "model = InceptionV3(weights='imagenet')\n",
    "# Remove the last layer (output softmax layer) from the inception v3\n",
    "model_new = Model(model.input, model.layers[-2].output)"
   ]
  },
  {
   "cell_type": "code",
   "execution_count": null,
   "metadata": {},
   "outputs": [],
   "source": []
  },
  {
   "cell_type": "markdown",
   "metadata": {},
   "source": [
    "## Conclusion"
   ]
  },
  {
   "cell_type": "code",
   "execution_count": null,
   "metadata": {},
   "outputs": [],
   "source": []
  },
  {
   "cell_type": "markdown",
   "metadata": {},
   "source": [
    "## Appendix"
   ]
  },
  {
   "cell_type": "code",
   "execution_count": 1,
   "metadata": {},
   "outputs": [],
   "source": [
    "import matplotlib.pyplot as plt"
   ]
  },
  {
   "cell_type": "code",
   "execution_count": 2,
   "metadata": {},
   "outputs": [
    {
     "data": {
      "image/png": "[encoded data removed]",
      "text/plain": [
       "<Figure size 432x288 with 1 Axes>"
      ]
     },
     "metadata": {
      "needs_background": "light"
     },
     "output_type": "display_data"
    }
   ],
   "source": [
    "# line 1 points \n",
    "x1 = [0,1,2,3,4,5,6,7,8,9] \n",
    "y1 = [48.8,48.3,48.6,48.4,48.1,48.1,48.0,47.9,48.0,47.8] \n",
    "# plotting the line 1 points  \n",
    "plt.plot(x1, y1, label = \"1 GPU instance\") \n",
    "  \n",
    "# line 2 points \n",
    "x2 = [0,1,2,3,4,5,6,7,8,9]\n",
    "y2 = [49.4,49.3,49.4,49.2,49.2,49.1,49.2,49.2,49.1,49.1] \n",
    "# plotting the line 2 points  \n",
    "plt.plot(x2, y2, label = \"1 Instance 4 GPU\") \n",
    "\n",
    "# line 3 points \n",
    "x3 = [0,1,2,3,4,5,6,7,8,9]\n",
    "y3 = [45.2,45.0,44.7,44.9,44.5,44.6,44.4,43.4,44.5,44.2]\n",
    "# plotting the line 2 points  \n",
    "plt.plot(x3, y3, label = \"2 Instances 4 GPU\") \n",
    "\n",
    "# line 2 points \n",
    "x4 = [0,1,2,3,4,5,6,7,8,9]\n",
    "y4 = [32.3,32.3,32.3,32.3,32.3,32.3,32.3,32.3,32.3,32.3] \n",
    "# plotting the line 2 points  \n",
    "plt.plot(x4, y4, label = \"4 Instances 4 GPU\") \n",
    "\n",
    "# naming the x axis \n",
    "plt.xlabel('Iteration') \n",
    "# naming the y axis \n",
    "plt.ylabel('Img/Sec per GPU') \n",
    "# giving a title to my graph \n",
    "plt.title('Scaling Efficiency of GPUs for Image Processing') \n",
    "  \n",
    "# show a legend on the plot \n",
    "plt.legend() \n",
    "  \n",
    "# function to show the plot \n",
    "plt.show() "
   ]
  },
  {
   "cell_type": "markdown",
   "metadata": {},
   "source": [
    "1. Was there any difference between the first baseline test with only 1 instance running and the first baseline test with 4 GPUs running?\n",
    "   \n",
    "    The first baseline test(1 GPU instance) perform much slower than the other first baseline test(1 Instance 4 GPU) with 4 GPUs running. The first baseline test with 4 GPUs performs better in terms of Img/sec per GPU over the 10 iterations. We can see that the Img/sec per GPU performance decreases for the first baseline with 1 instance. The first baseline with 4 GPUs  stays near consistent in regards to img/sec performance while the other first baseline drops sharply at the 1st iteration. \n",
    "   \n",
    "   \n",
    "2. Does the number of images processed/second scale linearly as more GPUs are added? Explain. \n",
    "\n",
    "    Yes the number of images processed/second scale linearly as more GPUs are added. We can see that with 4 GPU-enabled instances it is completely linear for all iterations at 32.5 Img/sec per GPU. Although at 2 GPU-enabled instances, it is not as linear with performance averaging at 89.1 +-1.8. We can predict based on the first, second, and fourth instances(with more GPUs) that performance will decrease for each instance, but eventually it will stabilize and scale linearly at a lower image processing speed as displayed by the 4th instance.  "
   ]
  },
  {
   "cell_type": "code",
   "execution_count": null,
   "metadata": {},
   "outputs": [],
   "source": []
  }
 ],
 "metadata": {
  "kernelspec": {
   "display_name": "Python 3",
   "language": "python",
   "name": "python3"
  },
  "language_info": {
   "codemirror_mode": {
    "name": "ipython",
    "version": 3
   },
   "file_extension": ".py",
   "mimetype": "text/x-python",
   "name": "python",
   "nbconvert_exporter": "python",
   "pygments_lexer": "ipython3",
   "version": "3.7.1"
  }
 },
 "nbformat": 4,
 "nbformat_minor": 2
}
