{
 "cells": [
  {
   "cell_type": "markdown",
   "metadata": {},
   "source": [
    "<font color=\"#483D8B\">\n",
    "<h1 align=\"center\"> Analyze Means </h1>\n",
    "<h3 align=\"center\"> Kevin Yang</h3>\n",
    "<h3 align=\"center\"> September 29, 2018</h3>\n",
    "---------------"
   ]
  },
  {
   "cell_type": "markdown",
   "metadata": {},
   "source": [
    "## Overview"
   ]
  },
  {
   "cell_type": "markdown",
   "metadata": {},
   "source": [
    "Determine if a set of means are all equal. Utilize ANOVA to test and analyze differences in means between group/numeric variables. Utilize and understand Tukey's test. Understand the importance of both. \n",
    "\n",
    "Code References:\n",
    "http://hamelg.blogspot.com/2015/11/python-for-data-analysis-part-16_23.html\n",
    "\n",
    "Bonferroni Correction reference:\n",
    "http://mathworld.wolfram.com/BonferroniCorrection.html\n",
    "\n",
    "Tukey's Test/Definition reference:\n",
    "https://en.wikipedia.org/wiki/Tukey%27s_range_test"
   ]
  },
  {
   "cell_type": "markdown",
   "metadata": {},
   "source": [
    "## Data"
   ]
  },
  {
   "cell_type": "code",
   "execution_count": 1,
   "metadata": {},
   "outputs": [],
   "source": [
    "import numpy as np\n",
    "import pandas as pd\n",
    "import matplotlib.pyplot as plt\n",
    "import scipy.stats as stats"
   ]
  },
  {
   "cell_type": "markdown",
   "metadata": {},
   "source": [
    "Libraries are imported to utilize their specific functions. Data will not be imported for this lab, but generated. "
   ]
  },
  {
   "cell_type": "markdown",
   "metadata": {},
   "source": [
    "## Exploratory Data Analysis"
   ]
  },
  {
   "cell_type": "markdown",
   "metadata": {},
   "source": [
    "Code 1: Generate random Data with no Changes to Distribution for any Group"
   ]
  },
  {
   "cell_type": "code",
   "execution_count": 2,
   "metadata": {},
   "outputs": [
    {
     "data": {
      "text/plain": [
       "F_onewayResult(statistic=1.7744689357329695, pvalue=0.13173183201930463)"
      ]
     },
     "execution_count": 2,
     "metadata": {},
     "output_type": "execute_result"
    }
   ],
   "source": [
    "np.random.seed(12)\n",
    "\n",
    "races =   [\"asian\",\"black\",\"hispanic\",\"other\",\"white\"]\n",
    "\n",
    "# Generate random data\n",
    "voter_race = np.random.choice(a= races, p = [0.05, 0.15 ,0.25, 0.05, 0.5], size=1000)\n",
    "\n",
    "voter_age = stats.poisson.rvs(loc=18, mu=30, size=1000)\n",
    "\n",
    "# Group age data by race\n",
    "voter_frame = pd.DataFrame({\"race\":voter_race,\"age\":voter_age})\n",
    "groups = voter_frame.groupby(\"race\").groups\n",
    "\n",
    "# Etract individual groups\n",
    "asian = voter_age[groups[\"asian\"]]\n",
    "black = voter_age[groups[\"black\"]]\n",
    "hispanic = voter_age[groups[\"hispanic\"]]\n",
    "other = voter_age[groups[\"other\"]]\n",
    "white = voter_age[groups[\"white\"]]\n",
    "\n",
    "# Perform the ANOVA\n",
    "stats.f_oneway(asian, black, hispanic, other, white)"
   ]
  },
  {
   "cell_type": "markdown",
   "metadata": {},
   "source": [
    "Code 1 performs the one-way ANOVA test. It generates random non-uniform data for the voter_race. The P-value is 0.13, which would equate to a failure to rejecting the null hypothesis of the study. The F-statistic is 1.77. Based on the\n",
    "P-value and the F-statistic, there is no significant difference between the means of each group.\n"
   ]
  },
  {
   "cell_type": "markdown",
   "metadata": {},
   "source": [
    "Code 2: Changing Distribution for a Group to Test Difference in Means"
   ]
  },
  {
   "cell_type": "code",
   "execution_count": 3,
   "metadata": {},
   "outputs": [
    {
     "data": {
      "text/plain": [
       "F_onewayResult(statistic=10.164699828386366, pvalue=4.5613242113994585e-08)"
      ]
     },
     "execution_count": 3,
     "metadata": {},
     "output_type": "execute_result"
    }
   ],
   "source": [
    "np.random.seed(12)\n",
    "\n",
    "# Generate random data\n",
    "voter_race = np.random.choice(a= races,\n",
    "                              p = [0.05, 0.15 ,0.25, 0.05, 0.5],\n",
    "                              size=1000)\n",
    "\n",
    "# Use a different distribution for white ages\n",
    "white_ages = stats.poisson.rvs(loc=18, \n",
    "                              mu=32,\n",
    "                              size=1000)\n",
    "\n",
    "voter_age = stats.poisson.rvs(loc=18,\n",
    "                              mu=30,\n",
    "                              size=1000)\n",
    "\n",
    "voter_age = np.where(voter_race==\"white\", white_ages, voter_age)\n",
    "\n",
    "# Group age data by race\n",
    "voter_frame = pd.DataFrame({\"race\":voter_race,\"age\":voter_age})\n",
    "groups = voter_frame.groupby(\"race\").groups   \n",
    "\n",
    "# Extract individual groups\n",
    "asian = voter_age[groups[\"asian\"]]\n",
    "black = voter_age[groups[\"black\"]]\n",
    "hispanic = voter_age[groups[\"hispanic\"]]\n",
    "other = voter_age[groups[\"other\"]]\n",
    "white = voter_age[groups[\"white\"]]\n",
    "\n",
    "# Perform the ANOVA\n",
    "stats.f_oneway(asian, black, hispanic, other, white)"
   ]
  },
  {
   "cell_type": "markdown",
   "metadata": {},
   "source": [
    "Code 2 also performs a one-way ANOVA test. It also generates random non-uniform data for the voter_race, but utilizes a different distribution for one group to test the difference in group means. The F-statistic is 10.16 and the p-value is 4.5."
   ]
  },
  {
   "cell_type": "markdown",
   "metadata": {},
   "source": [
    "Code 3: Separate T-tests comparision for Each Group"
   ]
  },
  {
   "cell_type": "code",
   "execution_count": 4,
   "metadata": {},
   "outputs": [
    {
     "name": "stdout",
     "output_type": "stream",
     "text": [
      "asian black\n",
      "Ttest_indResult(statistic=0.838644690974798, pvalue=0.4027281369339345)\n",
      "asian hispanic\n",
      "Ttest_indResult(statistic=-0.42594691924932293, pvalue=0.6704669004240726)\n",
      "asian other\n",
      "Ttest_indResult(statistic=0.9795284739636, pvalue=0.3298877500095151)\n",
      "asian white\n",
      "Ttest_indResult(statistic=-2.318108811252288, pvalue=0.020804701566400217)\n",
      "black hispanic\n",
      "Ttest_indResult(statistic=-1.9527839210712925, pvalue=0.05156197171952594)\n",
      "black other\n",
      "Ttest_indResult(statistic=0.28025754367057176, pvalue=0.7795770111117659)\n",
      "black white\n",
      "Ttest_indResult(statistic=-5.379303881281835, pvalue=1.039421216662395e-07)\n",
      "hispanic other\n",
      "Ttest_indResult(statistic=1.5853626170340225, pvalue=0.11396630528484335)\n",
      "hispanic white\n",
      "Ttest_indResult(statistic=-3.5160312714115376, pvalue=0.0004641298649066684)\n",
      "other white\n",
      "Ttest_indResult(statistic=-3.763809322077872, pvalue=0.00018490576317593065)\n"
     ]
    }
   ],
   "source": [
    "# Get all race pairs\n",
    "race_pairs = []\n",
    "\n",
    "for race1 in range(4):\n",
    "    for race2  in range(race1+1,5):\n",
    "        race_pairs.append((races[race1], races[race2]))\n",
    "\n",
    "# Conduct t-test on each pair\n",
    "for race1, race2 in race_pairs: \n",
    "    print(race1, race2)\n",
    "    print(stats.ttest_ind(voter_age[groups[race1]], \n",
    "                          voter_age[groups[race2]])) "
   ]
  },
  {
   "cell_type": "markdown",
   "metadata": {},
   "source": [
    "Code 3 creates separate t-test for comparisons between a pair of races. P-values tend to be greater than 0.05 for all pairings. Although all p-values less than .1 involve white voters, which could equate to larger mean difference between both groups. We would have to take into question the differences between each pairing(mean differences) and understand any trend or similarities between the various t-tests. "
   ]
  },
  {
   "cell_type": "markdown",
   "metadata": {},
   "source": [
    "Test/Table Results:"
   ]
  },
  {
   "cell_type": "code",
   "execution_count": 5,
   "metadata": {},
   "outputs": [
    {
     "data": {
      "text/html": [
       "<table class=\"simpletable\">\n",
       "<caption>Multiple Comparison of Means - Tukey HSD,FWER=0.05</caption>\n",
       "<tr>\n",
       "   <th>group1</th>   <th>group2</th>  <th>meandiff</th>  <th>lower</th>   <th>upper</th> <th>reject</th>\n",
       "</tr>\n",
       "<tr>\n",
       "    <td>asian</td>    <td>black</td>   <td>-0.8032</td> <td>-3.4423</td>  <td>1.836</td>  <td>False</td>\n",
       "</tr>\n",
       "<tr>\n",
       "    <td>asian</td>  <td>hispanic</td>  <td>0.4143</td>  <td>-2.1011</td> <td>2.9297</td>  <td>False</td>\n",
       "</tr>\n",
       "<tr>\n",
       "    <td>asian</td>    <td>other</td>   <td>-1.0645</td> <td>-4.2391</td>  <td>2.11</td>   <td>False</td>\n",
       "</tr>\n",
       "<tr>\n",
       "    <td>asian</td>    <td>white</td>   <td>1.9547</td>  <td>-0.4575</td> <td>4.3668</td>  <td>False</td>\n",
       "</tr>\n",
       "<tr>\n",
       "    <td>black</td>  <td>hispanic</td>  <td>1.2175</td>  <td>-0.386</td>   <td>2.821</td>  <td>False</td>\n",
       "</tr>\n",
       "<tr>\n",
       "    <td>black</td>    <td>other</td>   <td>-0.2614</td> <td>-2.7757</td>  <td>2.253</td>  <td>False</td>\n",
       "</tr>\n",
       "<tr>\n",
       "    <td>black</td>    <td>white</td>   <td>2.7579</td>  <td>1.3217</td>   <td>4.194</td>  <td>True</td> \n",
       "</tr>\n",
       "<tr>\n",
       "  <td>hispanic</td>   <td>other</td>   <td>-1.4789</td> <td>-3.863</td>  <td>0.9053</td>  <td>False</td>\n",
       "</tr>\n",
       "<tr>\n",
       "  <td>hispanic</td>   <td>white</td>   <td>1.5404</td>  <td>0.3468</td>   <td>2.734</td>  <td>True</td> \n",
       "</tr>\n",
       "<tr>\n",
       "    <td>other</td>    <td>white</td>   <td>3.0192</td>  <td>0.7443</td>  <td>5.2941</td>  <td>True</td> \n",
       "</tr>\n",
       "</table>"
      ],
      "text/plain": [
       "<class 'statsmodels.iolib.table.SimpleTable'>"
      ]
     },
     "execution_count": 5,
     "metadata": {},
     "output_type": "execute_result"
    },
    {
     "data": {
      "image/png": "[encoded data removed]",
      "text/plain": [
       "<Figure size 720x432 with 1 Axes>"
      ]
     },
     "metadata": {},
     "output_type": "display_data"
    }
   ],
   "source": [
    "from statsmodels.stats.multicomp import pairwise_tukeyhsd\n",
    "\n",
    "tukey = pairwise_tukeyhsd(endog=voter_age,     # Data\n",
    "                          groups=voter_race,   # Groups\n",
    "                          alpha=0.05)          # Significance level\n",
    "\n",
    "tukey.plot_simultaneous()    # Plot group confidence intervals\n",
    "plt.vlines(x=49.57,ymin=-0.5,ymax=4.5, color=\"red\")\n",
    "\n",
    "tukey.summary()"
   ]
  },
  {
   "cell_type": "markdown",
   "metadata": {},
   "source": [
    " - Your interpretation of test results:\n",
    "  The test suggests that that we shouldn't reject the null hypothesis in any of the pairings. Based on the confidence interval plot, only two groups overlap, other and asian. This provides support Code 3 involving separate t-tests for each pair. The p-values lower than 0.1 involving white voters include asian and other. This could mean that means for both groups are more likely affected by the \"white\" category. \n",
    "        "
   ]
  },
  {
   "cell_type": "markdown",
   "metadata": {},
   "source": [
    "## Conclusion"
   ]
  },
  {
   "cell_type": "markdown",
   "metadata": {},
   "source": [
    " Overall, I conclude that these tests help us analyze and greatly uncover differences regarding the means across levels.\n",
    " Significant results would require difference across group means, or high variance among the means. \n",
    " \n",
    "-          Brief explanation of one-way ANOVA test\n",
    "    \n",
    "    The one-way ANOVA tests whether the mean of some numeric variable differ across the levels of one categorical variable. \n",
    "    Its purpose is to verify differences of means between groups. It answers the question: 'Do any of the group means differ\n",
    "    from one another?'\n",
    "\n",
    "\n",
    "-          What is the F-test and F-statistic? \n",
    "    \n",
    "    The F-Test is the ratio of variance of two samples(two groups). The evidence is stronger if the means are more different.The F-statistics are the ratio of two variances with same values when the null hypothesis is true,which would mean an F-statistic near the value of 1. \n",
    "\n",
    "\n",
    "-          Bonferroni correction definition\n",
    "    \n",
    "    The Bonferroni correction is a multiple-comparison correction method used when there multiple dependent, or independent statistical tests are being performed simultaneously. The Bonferroni correction rejects An example would involve Code 3, where multiple comparisons are made.The chance that a rare event would occur increases with multiple comparisons/hypothesis tests, which would increase the making of a Type 1 error.  \n",
    "\n",
    "\n",
    "-          Why would you use Tukey’s test?\n",
    "    \n",
    "    I would use Tukey's test because it can be used on raw data and find means that are significantly different from each other. It provides the average difference, confidence interval and is one of the best option to compare pairs of means. \n"
   ]
  },
  {
   "cell_type": "code",
   "execution_count": null,
   "metadata": {},
   "outputs": [],
   "source": []
  }
 ],
 "metadata": {
  "kernelspec": {
   "display_name": "Python 3",
   "language": "python",
   "name": "python3"
  },
  "language_info": {
   "codemirror_mode": {
    "name": "ipython",
    "version": 3
   },
   "file_extension": ".py",
   "mimetype": "text/x-python",
   "name": "python",
   "nbconvert_exporter": "python",
   "pygments_lexer": "ipython3",
   "version": "3.6.5"
  }
 },
 "nbformat": 4,
 "nbformat_minor": 2
}
