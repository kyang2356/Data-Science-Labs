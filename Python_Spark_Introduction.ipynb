{
 "cells": [
  {
   "cell_type": "markdown",
   "metadata": {},
   "source": [
    "<font color=\"#483D8B\">\n",
    "<h1  align=\"left\">     Lab 2</h1>\n",
    "<div align=\"left\">\n",
    "<font size=3><b>\n",
    "<br>INET4710 Lab 2\n",
    "<br>Kevin Yang\n",
    "<br>January 31, 2019\n",
    "<br></font></b></div>\n",
    "\n",
    "\n",
    "---------------"
   ]
  },
  {
   "cell_type": "markdown",
   "metadata": {},
   "source": [
    "## Overview"
   ]
  },
  {
   "cell_type": "markdown",
   "metadata": {},
   "source": [
    "This lab details practice materials for Python and Spark. It covers the different functions for programming in Python and Spark for data science.  \n",
    "\n",
    "References and links for the data are derived from the lab document:\n",
    "1. https://docs.google.com/document/d/1SLM3FLE8A-cpKoVaMmlkcY30URYQcFtoIAFL6_vnRYI/edit"
   ]
  },
  {
   "cell_type": "code",
   "execution_count": 1,
   "metadata": {},
   "outputs": [],
   "source": [
    "import re\n",
    "import matplotlib.pyplot as plt\n",
    "import numpy as np\n",
    "import numpy.matlib\n",
    "import pandas as pd\n",
    "from numpy.linalg import inv\n",
    "import os\n",
    "import sys\n",
    "import pyspark\n",
    "import pyspark.sql\n",
    "from pyspark.sql import SparkSession\n",
    "import pyspark.sql.functions as func\n",
    "from pyspark.sql.functions import col\n"
   ]
  },
  {
   "cell_type": "markdown",
   "metadata": {},
   "source": [
    "## Data"
   ]
  },
  {
   "cell_type": "markdown",
   "metadata": {},
   "source": [
    "Data for this lab can be found in the reference link above. It will only be utilized for a few questions and will not be the sole data source for this lab. "
   ]
  },
  {
   "cell_type": "code",
   "execution_count": 2,
   "metadata": {},
   "outputs": [],
   "source": [
    "pathname = r\"C:\\Users\\k\\Desktop\\DataSci2\\Lab2\\names\\\\\""
   ]
  },
  {
   "cell_type": "markdown",
   "metadata": {},
   "source": [
    "Question 1.  \n",
    "Write a lambda function to multiply two numbers together"
   ]
  },
  {
   "cell_type": "markdown",
   "metadata": {},
   "source": [
    "lambda x,y: x*y"
   ]
  },
  {
   "cell_type": "markdown",
   "metadata": {},
   "source": [
    "Question 2.  \n",
    "Create a variable and assign to the lambda function definition from the previous question. Provide code that uses the variable to execute the lambda function (this is an example of functional programming).\n"
   ]
  },
  {
   "cell_type": "code",
   "execution_count": 3,
   "metadata": {},
   "outputs": [
    {
     "name": "stdout",
     "output_type": "stream",
     "text": [
      "30\n"
     ]
    }
   ],
   "source": [
    "mult = lambda x,y: x*y\n",
    "print(mult(5,6))"
   ]
  },
  {
   "cell_type": "markdown",
   "metadata": {},
   "source": [
    "Question 3.  \n",
    "Write code to use a regular expression to search the word pig for the letter i and replace the letter i with three i’s. Include all code needed to run the example and print out the result."
   ]
  },
  {
   "cell_type": "code",
   "execution_count": 4,
   "metadata": {},
   "outputs": [
    {
     "name": "stdout",
     "output_type": "stream",
     "text": [
      "piiig\n"
     ]
    }
   ],
   "source": [
    "line_1 = \"pig\"\n",
    "match = re.sub(r\"i\",\"iii\",line_1)\n",
    "if match:\n",
    "    print(match)\n",
    "else:\n",
    "    print('not found')"
   ]
  },
  {
   "cell_type": "markdown",
   "metadata": {},
   "source": [
    "Question 4. \n",
    "Create a 3 x 3 identity matrix (ones on diagonal; zeros otherwise)\n",
    "Display the shape of the matrix."
   ]
  },
  {
   "cell_type": "code",
   "execution_count": 5,
   "metadata": {},
   "outputs": [
    {
     "data": {
      "text/plain": [
       "matrix([[1, 0, 0],\n",
       "        [0, 1, 0],\n",
       "        [0, 0, 1]])"
      ]
     },
     "execution_count": 5,
     "metadata": {},
     "output_type": "execute_result"
    }
   ],
   "source": [
    "mat = np.matlib.identity(3,int)\n",
    "np.fill_diagonal(mat,1)\n",
    "mat\n"
   ]
  },
  {
   "cell_type": "markdown",
   "metadata": {},
   "source": [
    "Question 5.  \n",
    "Write code to  \n",
    "1.       multiply the a matrix by 2 and then\n",
    "2.       add matrix a and matrix b together.\n",
    "Output the result of each operation."
   ]
  },
  {
   "cell_type": "code",
   "execution_count": 6,
   "metadata": {},
   "outputs": [
    {
     "data": {
      "text/plain": [
       "array([[2.0027073 , 2.74734145, 2.93229399],\n",
       "       [2.58742619, 2.10833094, 2.3033389 ]])"
      ]
     },
     "execution_count": 6,
     "metadata": {},
     "output_type": "execute_result"
    }
   ],
   "source": [
    "a = np.ones((2,3), dtype=int)\n",
    "b = np.random.random((2,3))\n",
    "\n",
    "a = a*2\n",
    "result = a+b\n",
    "result"
   ]
  },
  {
   "cell_type": "markdown",
   "metadata": {},
   "source": [
    "Question 6.  \n",
    "Write code to\n",
    "     1. create a 3 by 4 matrix and initialize with random numbers between 0 and 1\n",
    "     2. Calculate the mean of all the matrix elements."
   ]
  },
  {
   "cell_type": "code",
   "execution_count": 7,
   "metadata": {},
   "outputs": [
    {
     "data": {
      "text/plain": [
       "0.5271762958831692"
      ]
     },
     "execution_count": 7,
     "metadata": {},
     "output_type": "execute_result"
    }
   ],
   "source": [
    "c = np.random.random((3,4))\n",
    "mn = np.mean(c)\n",
    "mn"
   ]
  },
  {
   "cell_type": "markdown",
   "metadata": {},
   "source": [
    "Question 7.  \n",
    "Using matrix a (below) and the axis parameter, write code to                        "
   ]
  },
  {
   "cell_type": "code",
   "execution_count": 8,
   "metadata": {},
   "outputs": [
    {
     "data": {
      "text/plain": [
       "array([[ 0,  1,  2,  3],\n",
       "       [ 4,  5,  6,  7],\n",
       "       [ 8,  9, 10, 11]])"
      ]
     },
     "execution_count": 8,
     "metadata": {},
     "output_type": "execute_result"
    }
   ],
   "source": [
    "a = np.arange(12).reshape(3,4)\n",
    "a"
   ]
  },
  {
   "cell_type": "markdown",
   "metadata": {},
   "source": [
    "1.   Sum each column"
   ]
  },
  {
   "cell_type": "code",
   "execution_count": 9,
   "metadata": {},
   "outputs": [
    {
     "name": "stdout",
     "output_type": "stream",
     "text": [
      "first column total:  12\n",
      "second column total:  15\n",
      "third column total:  18\n",
      "fourth column total:  21\n"
     ]
    }
   ],
   "source": [
    "first_col = sum(a[0:3,0])    #a[0,0] + a[1,0] + a[2,0]\n",
    "sec_col = sum(a[0:3,1])\n",
    "third_col = sum(a[0:3,2])\n",
    "fourth_col = sum(a[0:3,3])\n",
    "print(\"first column total: \",first_col)\n",
    "print(\"second column total: \",sec_col)\n",
    "print(\"third column total: \",third_col)\n",
    "print(\"fourth column total: \",fourth_col)"
   ]
  },
  {
   "cell_type": "code",
   "execution_count": 10,
   "metadata": {},
   "outputs": [
    {
     "data": {
      "text/plain": [
       "array([12, 15, 18, 21])"
      ]
     },
     "execution_count": 10,
     "metadata": {},
     "output_type": "execute_result"
    }
   ],
   "source": [
    "#sum of each column stored in a matrix/array\n",
    "tot = a.sum(0)\n",
    "tot"
   ]
  },
  {
   "cell_type": "markdown",
   "metadata": {},
   "source": [
    "2.   Find the minimum of each row"
   ]
  },
  {
   "cell_type": "code",
   "execution_count": 11,
   "metadata": {},
   "outputs": [
    {
     "name": "stdout",
     "output_type": "stream",
     "text": [
      "Minimum of the first row:  0\n",
      "Minimum of the second row:  4\n",
      "Minimum of the third row:  8\n"
     ]
    }
   ],
   "source": [
    "row_1 = min(a[0])    #a[0,0] + a[1,0] + a[2,0]\n",
    "row_2 = min(a[1])\n",
    "row_3 = min(a[2])\n",
    "print(\"Minimum of the first row: \",row_1)\n",
    "print(\"Minimum of the second row: \",row_2)\n",
    "print(\"Minimum of the third row: \",row_3)\n"
   ]
  },
  {
   "cell_type": "code",
   "execution_count": 12,
   "metadata": {},
   "outputs": [
    {
     "data": {
      "text/plain": [
       "array([0, 4, 8])"
      ]
     },
     "execution_count": 12,
     "metadata": {},
     "output_type": "execute_result"
    }
   ],
   "source": [
    "#minimum of each row stored in a matrix/array\n",
    "min_1 = a.min(1)\n",
    "min_1"
   ]
  },
  {
   "cell_type": "markdown",
   "metadata": {},
   "source": [
    "3.   Calculate the cumulative sum along each row"
   ]
  },
  {
   "cell_type": "code",
   "execution_count": 13,
   "metadata": {},
   "outputs": [
    {
     "data": {
      "text/plain": [
       "array([ 0,  1,  3,  6, 10, 15, 21, 28, 36, 45, 55, 66], dtype=int32)"
      ]
     },
     "execution_count": 13,
     "metadata": {},
     "output_type": "execute_result"
    }
   ],
   "source": [
    "cs = np.cumsum(a)\n",
    "cs"
   ]
  },
  {
   "cell_type": "markdown",
   "metadata": {},
   "source": [
    "4.   Read the 3rd column of the 2nd row."
   ]
  },
  {
   "cell_type": "code",
   "execution_count": 14,
   "metadata": {},
   "outputs": [
    {
     "data": {
      "text/plain": [
       "6"
      ]
     },
     "execution_count": 14,
     "metadata": {},
     "output_type": "execute_result"
    }
   ],
   "source": [
    "#value in the 3rd column of the 2nd row\n",
    "val = a[1][2]\n",
    "val"
   ]
  },
  {
   "cell_type": "markdown",
   "metadata": {},
   "source": [
    "5.   Read the last row."
   ]
  },
  {
   "cell_type": "code",
   "execution_count": 15,
   "metadata": {},
   "outputs": [
    {
     "data": {
      "text/plain": [
       "array([ 8,  9, 10, 11])"
      ]
     },
     "execution_count": 15,
     "metadata": {},
     "output_type": "execute_result"
    }
   ],
   "source": [
    "last_row = a[2]\n",
    "last_row"
   ]
  },
  {
   "cell_type": "markdown",
   "metadata": {},
   "source": [
    "Question 8.  \n",
    "Using matrix a (below), write code to     "
   ]
  },
  {
   "cell_type": "code",
   "execution_count": 16,
   "metadata": {},
   "outputs": [
    {
     "data": {
      "text/plain": [
       "array([[ 0,  1,  2,  3],\n",
       "       [ 4,  5,  6,  7],\n",
       "       [ 8,  9, 10, 11]])"
      ]
     },
     "execution_count": 16,
     "metadata": {},
     "output_type": "execute_result"
    }
   ],
   "source": [
    "a = np.arange(12).reshape(3,4)\n",
    "a"
   ]
  },
  {
   "cell_type": "markdown",
   "metadata": {},
   "source": [
    "1.     create a boolean index that is true if a < 5. "
   ]
  },
  {
   "cell_type": "code",
   "execution_count": 17,
   "metadata": {},
   "outputs": [
    {
     "name": "stdout",
     "output_type": "stream",
     "text": [
      "[[ True  True  True  True]\n",
      " [ True False False False]\n",
      " [False False False False]]\n"
     ]
    }
   ],
   "source": [
    "print(a<5)"
   ]
  },
  {
   "cell_type": "markdown",
   "metadata": {},
   "source": [
    "2.     Then use the boolean matrix to select elements in matrix a that are less than five.\n",
    "3.     Output the resulting matrix."
   ]
  },
  {
   "cell_type": "code",
   "execution_count": 18,
   "metadata": {},
   "outputs": [
    {
     "data": {
      "text/plain": [
       "array([0, 1, 2, 3, 4])"
      ]
     },
     "execution_count": 18,
     "metadata": {},
     "output_type": "execute_result"
    }
   ],
   "source": [
    "bool_mat = a[a<5]\n",
    "bool_mat"
   ]
  },
  {
   "cell_type": "markdown",
   "metadata": {},
   "source": [
    "4.     What are the dimensions of the final matrix?"
   ]
  },
  {
   "cell_type": "markdown",
   "metadata": {},
   "source": [
    "The dimensions of the final boolean matrix is 1-by-5."
   ]
  },
  {
   "cell_type": "markdown",
   "metadata": {},
   "source": [
    "Question 9.  \n",
    "Using matrix a (below), write code to copy the matrix into a separate matrix with its own data (i.e., the variable is not a reference to matrix a).  "
   ]
  },
  {
   "cell_type": "code",
   "execution_count": 19,
   "metadata": {},
   "outputs": [
    {
     "data": {
      "text/plain": [
       "array([[ 0,  1,  2,  3],\n",
       "       [ 4,  5,  6,  7],\n",
       "       [ 8,  9, 10, 11]])"
      ]
     },
     "execution_count": 19,
     "metadata": {},
     "output_type": "execute_result"
    }
   ],
   "source": [
    "a = np.arange(12).reshape(3,4)\n",
    "a"
   ]
  },
  {
   "cell_type": "code",
   "execution_count": 20,
   "metadata": {},
   "outputs": [
    {
     "data": {
      "text/plain": [
       "array([[ 0,  1,  2,  3],\n",
       "       [ 4,  5,  6,  7],\n",
       "       [ 8,  9, 10, 11]])"
      ]
     },
     "execution_count": 20,
     "metadata": {},
     "output_type": "execute_result"
    }
   ],
   "source": [
    "new_mat = a.copy()\n",
    "new_mat\n"
   ]
  },
  {
   "cell_type": "markdown",
   "metadata": {},
   "source": [
    " Question 10.  \n",
    " Using matrices x and y (below), write code to   "
   ]
  },
  {
   "cell_type": "code",
   "execution_count": 21,
   "metadata": {},
   "outputs": [],
   "source": [
    "x = np.array([[1., 2., 3.], [4., 5., 6.]])\n",
    "y = np.array([[6., 23.], [-1, 7], [8, 9]])"
   ]
  },
  {
   "cell_type": "markdown",
   "metadata": {},
   "source": [
    "1.       Calculate the transpose of x"
   ]
  },
  {
   "cell_type": "code",
   "execution_count": 22,
   "metadata": {},
   "outputs": [
    {
     "data": {
      "text/plain": [
       "array([[1., 4.],\n",
       "       [2., 5.],\n",
       "       [3., 6.]])"
      ]
     },
     "execution_count": 22,
     "metadata": {},
     "output_type": "execute_result"
    }
   ],
   "source": [
    "np.transpose(x)"
   ]
  },
  {
   "cell_type": "markdown",
   "metadata": {},
   "source": [
    "2.       Multiple matrix x by y (using the dot operator) and save the result in z"
   ]
  },
  {
   "cell_type": "code",
   "execution_count": 23,
   "metadata": {},
   "outputs": [
    {
     "data": {
      "text/plain": [
       "array([[ 28.,  64.],\n",
       "       [ 67., 181.]])"
      ]
     },
     "execution_count": 23,
     "metadata": {},
     "output_type": "execute_result"
    }
   ],
   "source": [
    "z = np.dot(x,y)\n",
    "z"
   ]
  },
  {
   "cell_type": "markdown",
   "metadata": {},
   "source": [
    "3.       Calculate the inverse of z"
   ]
  },
  {
   "cell_type": "code",
   "execution_count": 24,
   "metadata": {},
   "outputs": [
    {
     "data": {
      "text/plain": [
       "array([[ 0.23205128, -0.08205128],\n",
       "       [-0.08589744,  0.03589744]])"
      ]
     },
     "execution_count": 24,
     "metadata": {},
     "output_type": "execute_result"
    }
   ],
   "source": [
    "inv(z)"
   ]
  },
  {
   "cell_type": "markdown",
   "metadata": {},
   "source": [
    "## Exploratory Data Analysis"
   ]
  },
  {
   "cell_type": "markdown",
   "metadata": {},
   "source": [
    "Question 11.  Execute the code (below) to display the plot."
   ]
  },
  {
   "cell_type": "code",
   "execution_count": 25,
   "metadata": {},
   "outputs": [
    {
     "data": {
      "image/png": "[encoded data removed]",
      "text/plain": [
       "<Figure size 432x288 with 1 Axes>"
      ]
     },
     "metadata": {
      "needs_background": "light"
     },
     "output_type": "display_data"
    }
   ],
   "source": [
    "x = np.linspace(0, 2, 100)\n",
    " \n",
    "plt.plot(x, x, label='linear')\n",
    "plt.plot(x, x**2, label='quadratic')\n",
    "plt.plot(x, x**3, label='cubic')\n",
    " \n",
    "plt.xlabel('x label')\n",
    "plt.ylabel('y label')\n",
    " \n",
    "plt.title(\"Simple Plot\")\n",
    " \n",
    "plt.legend()\n",
    " \n",
    "plt.show()"
   ]
  },
  {
   "cell_type": "markdown",
   "metadata": {},
   "source": [
    "A plot displaying three different graphs: linear, quadratic and cubic."
   ]
  },
  {
   "cell_type": "markdown",
   "metadata": {},
   "source": [
    "Question 12.  \n",
    "Include the code (below) and add code to output the bar chart."
   ]
  },
  {
   "cell_type": "code",
   "execution_count": 26,
   "metadata": {},
   "outputs": [
    {
     "name": "stdout",
     "output_type": "stream",
     "text": [
      "['Emma', 'Olivia', 'Noah', 'Liam', 'Sophia', 'Ava', 'William', 'Mason', 'Isabella', 'Jacob']\n"
     ]
    },
    {
     "data": {
      "image/png": "[encoded data removed]",
      "text/plain": [
       "<Figure size 432x288 with 1 Axes>"
      ]
     },
     "metadata": {},
     "output_type": "display_data"
    }
   ],
   "source": [
    "df_pieces = []\n",
    "pathname = r\"C:\\Users\\kyang\\Desktop\\DataSci2\\Lab2\\names\\\\\"\n",
    " \n",
    "years = range(2014, 2018)\n",
    "for year in years:\n",
    "      df_year = pd.read_csv(pathname + \"yob\" + str(year) + \".txt\", names=['name', 'sex', 'births'])\n",
    "      df_year['year'] = year\n",
    "      df_pieces.append(df_year)\n",
    " \n",
    "names = pd.concat(df_pieces, ignore_index=True)\n",
    " \n",
    " \n",
    "# output a few lines of one of the data frames\n",
    "df_year.head()\n",
    " \n",
    "# sum births by gender\n",
    "names.groupby('sex')['births'].sum()\n",
    " \n",
    "type(names)\n",
    "names.index\n",
    "n = names.groupby('name')['births'].sum()\n",
    "type(n)\n",
    "# note a hierarchical index was created\n",
    "n.index\n",
    "# recreate a flat index\n",
    "n1 = n.reset_index(name='birthcount')\n",
    " \n",
    "# top 10 birth names\n",
    "top10 = n1.sort_values(by='birthcount', ascending=False)[:10]\n",
    " \n",
    "# select the name column converts the dataframe to a series\n",
    "# which can be converted to a list         \n",
    "top10['name']\n",
    "type(top10['name'])\n",
    "l_top10 = top10['name'].tolist()\n",
    "print(l_top10)\n",
    "\n",
    " \n",
    " \n",
    "# select the births for names in the top 10 list\n",
    "df_top10 = names[names['name'].isin(l_top10)]\n",
    "# select name and birth count columns\n",
    "df_top10births = df_top10[['name','births']]\n",
    " \n",
    "# sum births for each name\n",
    "df_top10sum = df_top10.groupby('name')['births'].sum()\n",
    "df_top10sum = df_top10sum.reset_index(name='births')\n",
    " \n",
    "# create bar chart\n",
    "plt.style.use('ggplot')\n",
    "df_top10sum.plot(kind=\"bar\",x=\"name\", #df_top10sum[\"name\"],\n",
    "                          title=\"Birth Names\",\n",
    "                          legend=False)\n",
    "plt.gcf().subplots_adjust(bottom=0.2)\n"
   ]
  },
  {
   "cell_type": "markdown",
   "metadata": {},
   "source": [
    "This bar chart displays the top 10 birth names. We can see that Emma has the highest selection followed by Olivia. \n",
    "Jacob is the least popular among the top 10 birth names. "
   ]
  },
  {
   "cell_type": "markdown",
   "metadata": {},
   "source": [
    "Question 13.  Include the code (below) and display the top 10 names."
   ]
  },
  {
   "cell_type": "code",
   "execution_count": 27,
   "metadata": {},
   "outputs": [],
   "source": [
    "spark_path = \"C:\\Spark\\spark-2.3.2-bin-hadoop2.7\"\n",
    " \n",
    "os.environ['SPARK_HOME'] = spark_path\n",
    "os.environ['HADOOP_HOME'] = spark_path\n",
    " \n",
    "sys.path.append(spark_path + \"\\bin\")\n",
    "sys.path.append(spark_path + \"\\python\")\n",
    "sys.path.append(spark_path + \"\\python\\pyspark\")\n",
    "sys.path.append(spark_path + \"\\python\\lib\")\n",
    "sys.path.append(spark_path + \"\\python\\lib\\pyspark.zip\")\n",
    "sys.path.append(spark_path + \"\\python\\lib\\py4j-0.10.7-src.zip\")\n",
    "\n",
    "spark = SparkSession.builder.master(\"local[*]\").appName(\"lab1\").getOrCreate()\n",
    "sc = spark.sparkContext"
   ]
  },
  {
   "cell_type": "code",
   "execution_count": 28,
   "metadata": {},
   "outputs": [],
   "source": [
    "# local[*]  Run Spark locally with as many worker threads\n",
    "#           as logical cores on your machine\n",
    "# getOrCreate() Gets an existing SparkSession or, if there\n",
    "#           is no existing one, creates a new one based on the\n",
    "#           options set in this builder"
   ]
  },
  {
   "cell_type": "code",
   "execution_count": 29,
   "metadata": {},
   "outputs": [
    {
     "name": "stdout",
     "output_type": "stream",
     "text": [
      "root\n",
      " |-- name: string (nullable = true)\n",
      " |-- sex: string (nullable = true)\n",
      " |-- births: long (nullable = true)\n",
      " |-- year: long (nullable = true)\n",
      "\n",
      "+----+---+------+----+\n",
      "|name|sex|births|year|\n",
      "+----+---+------+----+\n",
      "|Emma|  F| 20924|2014|\n",
      "|Emma|  M|    12|2014|\n",
      "|Emma|  F| 20435|2015|\n",
      "|Emma|  M|    10|2015|\n",
      "|Emma|  F| 19471|2016|\n",
      "|Emma|  M|    18|2016|\n",
      "|Emma|  F| 19738|2017|\n",
      "|Emma|  M|    14|2017|\n",
      "+----+---+------+----+\n",
      "\n",
      "+--------+-----------+\n",
      "|    name|sum(births)|\n",
      "+--------+-----------+\n",
      "|    Emma|      80622|\n",
      "|  Olivia|      77476|\n",
      "|    Noah|      76855|\n",
      "|    Liam|      73840|\n",
      "|  Sophia|      67010|\n",
      "|     Ava|      64290|\n",
      "| William|      63417|\n",
      "|   Mason|      62850|\n",
      "|Isabella|      62599|\n",
      "|   Jacob|      60459|\n",
      "+--------+-----------+\n",
      "\n"
     ]
    }
   ],
   "source": [
    "df_pieces = []\n",
    "pathname = r\"C:\\Users\\kyang\\Desktop\\DataSci2\\Lab2\\names\\\\\"\n",
    " \n",
    "years = range(2014, 2018)\n",
    "for year in years:\n",
    "    df_year = pd.read_csv(pathname + \"yob\" + str(year) + \".txt\", names=['name', 'sex', 'births'])\n",
    "    df_year['year'] = year\n",
    "    df_pieces.append(df_year)\n",
    " \n",
    "names = pd.concat(df_pieces, ignore_index=True)\n",
    " \n",
    "# now for pandas dataframes with spark\n",
    " \n",
    "# create spark dataframe from pandas dataframe\n",
    "spark_df = spark.createDataFrame(names)\n",
    " \n",
    "# persist the RDD in memory, allowing it to be reused efficiently across parallel operations\n",
    "cached = spark_df.persist()\n",
    " \n",
    "spark_df.count()\n",
    "spark_df.first()\n",
    " \n",
    "names.shape\n",
    " \n",
    "spark_df.columns\n",
    "spark_df.printSchema()\n",
    " \n",
    "# find Emma names\n",
    "n = spark_df.filter(cached.name == 'Emma')\n",
    "n.show()\n",
    " \n",
    "# top 10\n",
    "# returns a list type\n",
    " \n",
    "top10 = spark_df[['name','births']].groupBy('name').sum().sort(col('sum(births)').desc()).limit(10).show()\n",
    "top10"
   ]
  },
  {
   "cell_type": "markdown",
   "metadata": {},
   "source": [
    "Question 14.  Write code to select the count of distinct names in the spark_df data frame."
   ]
  },
  {
   "cell_type": "code",
   "execution_count": 30,
   "metadata": {},
   "outputs": [
    {
     "data": {
      "text/plain": [
       "131774"
      ]
     },
     "execution_count": 30,
     "metadata": {},
     "output_type": "execute_result"
    }
   ],
   "source": [
    "#cnt_dst_name = spark_df.groupby(spark_df['name']).count().show()\n",
    "cnt_dst_name = spark_df.distinct().count()\n",
    "cnt_dst_name"
   ]
  },
  {
   "cell_type": "markdown",
   "metadata": {},
   "source": [
    "Question 15.  Write code to count the names born in 2016 in the spark_df data frame."
   ]
  },
  {
   "cell_type": "code",
   "execution_count": 31,
   "metadata": {},
   "outputs": [
    {
     "name": "stdout",
     "output_type": "stream",
     "text": [
      "+---------+-----+\n",
      "|     name|count|\n",
      "+---------+-----+\n",
      "|   Alayna|    1|\n",
      "|    Ember|    2|\n",
      "|   Heaven|    2|\n",
      "|  Galilea|    1|\n",
      "|   Azalea|    1|\n",
      "|     Faye|    1|\n",
      "|    Kiana|    1|\n",
      "|    Tegan|    2|\n",
      "| Julianne|    1|\n",
      "|  Susanna|    1|\n",
      "|    Tyler|    2|\n",
      "|  Jazzlyn|    1|\n",
      "|   Kenlee|    2|\n",
      "|   Maddox|    2|\n",
      "| Analeigh|    1|\n",
      "|     Kloe|    1|\n",
      "|     Nell|    1|\n",
      "|   Ishani|    1|\n",
      "|Amaryllis|    1|\n",
      "|   Britta|    1|\n",
      "+---------+-----+\n",
      "only showing top 20 rows\n",
      "\n"
     ]
    }
   ],
   "source": [
    "#num_names = spark_df.filter(spark_df['year'] == 2016).sum().show()\n",
    "#num_names\n",
    "#num_names = spark_df['name','year'].where(spark_df['year'] == 2016).collect()\n",
    "\n",
    "num_names = spark_df['name','year'].filter(func.col('year') == 2016).groupBy('name').count().show()\n",
    "\n",
    "#total = num_names.count(axis='name')\n",
    "num_names\n",
    "#total"
   ]
  },
  {
   "cell_type": "markdown",
   "metadata": {},
   "source": [
    "## Conclusion"
   ]
  },
  {
   "cell_type": "markdown",
   "metadata": {},
   "source": [
    "Although the purpose of this lab is to mainly practice Python and Spark programming, it has been very helpful as a \"first step\" into Big Data. This lab will definitely be utilized further for more practice and assistance with future assignments.  "
   ]
  },
  {
   "cell_type": "code",
   "execution_count": null,
   "metadata": {},
   "outputs": [],
   "source": []
  }
 ],
 "metadata": {
  "kernelspec": {
   "display_name": "Python 3",
   "language": "python",
   "name": "python3"
  },
  "language_info": {
   "codemirror_mode": {
    "name": "ipython",
    "version": 3
   },
   "file_extension": ".py",
   "mimetype": "text/x-python",
   "name": "python",
   "nbconvert_exporter": "python",
   "pygments_lexer": "ipython3",
   "version": "3.7.1"
  }
 },
 "nbformat": 4,
 "nbformat_minor": 2
}
